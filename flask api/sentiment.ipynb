{
 "cells": [
  {
   "cell_type": "code",
   "execution_count": 1,
   "metadata": {},
   "outputs": [],
   "source": [
    "import random\n",
    "\n",
    "class Sentiment:\n",
    "    POSITIVE=\"POSITIVE\"\n",
    "    NEUTRAL=\"NEUTRAL\"\n",
    "    NEGATIVE=\"NEGATIVE\"\n",
    "\n",
    "\n",
    "class Review:\n",
    "    def __init__(self,text,score):\n",
    "        self.text=text\n",
    "        self.score=score\n",
    "        self.sentiment=self.get_sentiment()\n",
    "        \n",
    "    def get_sentiment(self):\n",
    "        if self.score>=4:\n",
    "            return Sentiment.POSITIVE\n",
    "        elif self.score==3:\n",
    "            return Sentiment.NEUTRAL\n",
    "        else:\n",
    "            return Sentiment.NEGATIVE\n",
    "        \n",
    "class ReviewContainer:\n",
    "    def __init__(self,reviews):\n",
    "        self.reviews=reviews\n",
    "    \n",
    "    def get_text(self):\n",
    "        return [x.text for x in self.reviews]\n",
    "    \n",
    "    def get_sentiment(self):\n",
    "        return [x.sentiment for x in self.reviews]\n",
    "        \n",
    "    def evenly_distribute(self):\n",
    "        negative=list(filter(lambda x:x.sentiment==Sentiment.NEGATIVE,self.reviews))\n",
    "        positive=list(filter(lambda x:x.sentiment==Sentiment.POSITIVE,self.reviews))\n",
    "        positive_shrunk=positive[:len(negative)]\n",
    "        self.reviews=negative+positive_shrunk\n",
    "        random.shuffle(self.reviews)\n",
    "        "
   ]
  },
  {
   "cell_type": "code",
   "execution_count": 2,
   "metadata": {},
   "outputs": [
    {
     "data": {
      "text/plain": [
       "'POSITIVE'"
      ]
     },
     "execution_count": 2,
     "metadata": {},
     "output_type": "execute_result"
    }
   ],
   "source": [
    "import json\n",
    "\n",
    "file_name=\"./Automotive_5.json\"\n",
    "\n",
    "reviews=[]\n",
    "with open(file_name) as f:\n",
    "    for line in f:\n",
    "        review=json.loads(line)\n",
    "        reviews.append(Review(review['reviewText'],review[\"overall\"]))\n",
    "\n",
    "reviews[5].sentiment      \n",
    "        "
   ]
  },
  {
   "cell_type": "code",
   "execution_count": 3,
   "metadata": {},
   "outputs": [
    {
     "name": "stdout",
     "output_type": "stream",
     "text": [
      "800\n",
      "800\n"
     ]
    }
   ],
   "source": [
    "#preprocessing\n",
    "\n",
    "from sklearn.model_selection import train_test_split\n",
    "training,test=train_test_split(reviews,test_size=0.3,random_state=42)\n",
    "\n",
    "train_cont=ReviewContainer(training)\n",
    "train_cont.evenly_distribute()\n",
    "test_cont=ReviewContainer(test)\n",
    "test_cont.evenly_distribute()\n",
    "\n",
    "x_train=train_cont.get_text()\n",
    "y_train=train_cont.get_sentiment()\n",
    "\n",
    "x_test=test_cont.get_text()\n",
    "y_test=test_cont.get_sentiment()\n",
    "\n",
    "print(y_train.count(Sentiment.POSITIVE))\n",
    "print(y_train.count(Sentiment.NEGATIVE))"
   ]
  },
  {
   "cell_type": "code",
   "execution_count": 4,
   "metadata": {},
   "outputs": [
    {
     "data": {
      "text/plain": [
       "'I\\'ve been detailing and cleaning my vehicles for the past 15 years. So I\\'m rather particular about what I use and how I clean the vehicles. Which is why I used this on a friends vehicle  (with their permission) who doesn\\'t particularly care about how it looks. :)First of all, you should NEVER use any product like this on a dirty vehicle without washing it first. Otherwise you are simply rubbing dirt directly into the paint and you will have swirl marks. Especially if you have a dark colored vehicle. The vehicle should idealy be washed with pressure washer to remove large/loose dirt (or reputable touchless wash if not available), and then with a wash mit and bucket (with grit guard) using car wash soap. If it\\'s in the kitchen, don\\'t use it. Car wash soap only please.Once you have a 99% clean vehicle, you may then proceed to use the Lucky Earth detailing kit. You can use this to clean up any spots you may have missed on the paint, wheels, or even glass if you feel like it. For this, the product got the job done. But then again, so does plain old H2O with a microfiber towel. Perhaps if you don\\'t have clean water available, this would work. But then again, how did you wash the vehicle in the first place?Compared to the normal detailing products I have and currently do use such as Meguiars and Zaino... well, there is no comparison. These products do a far better job as cleaning, adding shine, protection, and even helping cover up swirls.The tire kit provides a matte finish (ie. not shiny). I\\'m not really sure if added any protection since it looks and feels the same as it did after it was washed with soap and water. But it did pick up more dirt. Once again, it\\'s a tire. Water/Towel would do the same thing. We won\\'t bother comparing this to anything else.Then you have to consider the cost. This is somewhat pricey for a detailing kit. But I suppose that\\'s the price you pay for earth-friendly products.Pros:* Earth-friendly.* Very nice towels* Removes water spots like you\\'ve never seen before* Did I mention the soft microfiber towels?Cons:* Expensive* Potentially costly and harmful washing directions* \"Non-earth friendly\" products do much better.Overall, I like trees too. But the Lucky Earth product only cleans stuff slightly better than water. And not how they claim it should. There is no way you are ditching traditional washing methods for a spray bottle on a dirty vehicle.My suggestion: If you need a detailing kit, buy well known products such as Meguiars and use them on cars only. Not trees. They are definitely car-friendly.'"
      ]
     },
     "execution_count": 4,
     "metadata": {},
     "output_type": "execute_result"
    }
   ],
   "source": [
    "from sklearn.feature_extraction.text import CountVectorizer,TfidfVectorizer\n",
    "\n",
    "vectorizer=TfidfVectorizer()\n",
    "x_train_vector=vectorizer.fit_transform(x_train)\n",
    "x_test_vector=vectorizer.transform(x_test)\n",
    "\n",
    "x_train[0]\n"
   ]
  },
  {
   "cell_type": "code",
   "execution_count": 5,
   "metadata": {},
   "outputs": [
    {
     "data": {
      "text/plain": [
       "array(['POSITIVE'], dtype='<U8')"
      ]
     },
     "execution_count": 5,
     "metadata": {},
     "output_type": "execute_result"
    }
   ],
   "source": [
    "#linear svm\n",
    "\n",
    "\n",
    "from sklearn import svm\n",
    "\n",
    "clf_svm=svm.SVC(kernel='linear')\n",
    "clf_svm.fit(x_train_vector,y_train)\n",
    "\n",
    "clf_svm.predict(x_test_vector[0])\n"
   ]
  },
  {
   "cell_type": "code",
   "execution_count": 6,
   "metadata": {},
   "outputs": [
    {
     "name": "stdout",
     "output_type": "stream",
     "text": [
      "0.7859195402298851\n"
     ]
    }
   ],
   "source": [
    "print(clf_svm.score(x_test_vector,y_test))"
   ]
  },
  {
   "cell_type": "code",
   "execution_count": 7,
   "metadata": {},
   "outputs": [
    {
     "data": {
      "text/plain": [
       "array(['NEGATIVE', 'POSITIVE'], dtype='<U8')"
      ]
     },
     "execution_count": 7,
     "metadata": {},
     "output_type": "execute_result"
    }
   ],
   "source": [
    "test_set=['this is very bad','good']\n",
    "new_test=vectorizer.transform(test_set)\n",
    "\n",
    "clf_svm.predict(new_test)"
   ]
  },
  {
   "cell_type": "code",
   "execution_count": 8,
   "metadata": {},
   "outputs": [],
   "source": [
    "import pickle"
   ]
  },
  {
   "cell_type": "code",
   "execution_count": 9,
   "metadata": {},
   "outputs": [],
   "source": [
    "pickle.dump(clf_svm,open('sa.pkl','wb'))"
   ]
  },
  {
   "cell_type": "code",
   "execution_count": 10,
   "metadata": {},
   "outputs": [],
   "source": [
    "pickle.dump(vectorizer,open('vect.pkl','wb'))"
   ]
  },
  {
   "cell_type": "code",
   "execution_count": 11,
   "metadata": {},
   "outputs": [],
   "source": [
    "r=pickle.load(open('vect.pkl','rb'))"
   ]
  },
  {
   "cell_type": "code",
   "execution_count": 12,
   "metadata": {},
   "outputs": [
    {
     "data": {
      "text/plain": [
       "array(['NEGATIVE'], dtype='<U8')"
      ]
     },
     "execution_count": 12,
     "metadata": {},
     "output_type": "execute_result"
    }
   ],
   "source": [
    "clf_svm.predict(r.transform(['it is bad']))"
   ]
  },
  {
   "cell_type": "code",
   "execution_count": null,
   "metadata": {},
   "outputs": [],
   "source": []
  },
  {
   "cell_type": "code",
   "execution_count": null,
   "metadata": {},
   "outputs": [],
   "source": []
  }
 ],
 "metadata": {
  "kernelspec": {
   "display_name": "Python 3",
   "language": "python",
   "name": "python3"
  },
  "language_info": {
   "codemirror_mode": {
    "name": "ipython",
    "version": 3
   },
   "file_extension": ".py",
   "mimetype": "text/x-python",
   "name": "python",
   "nbconvert_exporter": "python",
   "pygments_lexer": "ipython3",
   "version": "3.8.3"
  }
 },
 "nbformat": 4,
 "nbformat_minor": 4
}
